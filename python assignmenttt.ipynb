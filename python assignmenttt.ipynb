{
 "cells": [
  {
   "cell_type": "code",
   "execution_count": 1,
   "id": "f25a0067-cfea-4b18-8b29-e1a6a2ef56ce",
   "metadata": {},
   "outputs": [
    {
     "name": "stdout",
     "output_type": "stream",
     "text": [
      "120 70000\n"
     ]
    }
   ],
   "source": [
    "##1.Create a Vehicle class with max_speed and mileage instance attributes\n",
    "class Vehicle:\n",
    "    def __init__(self,max_speed,mileage):\n",
    "        self.max_speed=max_speed\n",
    "        self.mileage=mileage\n",
    "\n",
    "\n",
    "car=Vehicle(120,70000)\n",
    "print(car.max_speed,car.mileage)"
   ]
  },
  {
   "cell_type": "code",
   "execution_count": 3,
   "id": "ceffff00-c588-4fdf-adec-65f24b86a41b",
   "metadata": {},
   "outputs": [
    {
     "data": {
      "text/plain": [
       "'The seating capacity of a School busis a 50 passengers'"
      ]
     },
     "execution_count": 3,
     "metadata": {},
     "output_type": "execute_result"
    }
   ],
   "source": [
    "##2.Create a Bus class that inherits from the Vehicle class.Give the capacity argument ofBus.seating_capacity() a default value of 50.\n",
    "class Vehicle:\n",
    "    def __init__(self,name,max_speed,mileage):\n",
    "        self.name=name\n",
    "        self.max_speed=max_speed\n",
    "        self.mileage=mileage\n",
    "    def seating_capacity(self,capacity): \n",
    "        return f\"The seating capacity of a {self.name} is {capacity} passengers\"\n",
    "class bus(Vehicle):\n",
    "    def seating_capacity(self,capacity=50):\n",
    "        return f\"The seating capacity of a {self.name}is a {capacity} passengers\"\n",
    "bus (\"School bus\",150,3700).seating_capacity()"
   ]
  },
  {
   "cell_type": "code",
   "execution_count": 5,
   "id": "053a0440-ba54-4ba8-beec-268eb4f8ff43",
   "metadata": {},
   "outputs": [
    {
     "data": {
      "text/plain": [
       "'Blue'"
      ]
     },
     "execution_count": 5,
     "metadata": {},
     "output_type": "execute_result"
    }
   ],
   "source": [
    "##3.Define property that should have the same value for every class instance \n",
    "class Vehicle:\n",
    "    color ='Blue'\n",
    "    def __init__(self,name,max_speed,mileage):\n",
    "     self.name = name\n",
    "     self.max_speed = max_speed\n",
    "     self.mileage = mileage\n",
    "class Bus(Vehicle):\n",
    "    pass\n",
    "class Car(Vehicle):\n",
    "    pass\n",
    "\n",
    "Bus ('r',350,4300)\n",
    "Bus.color"
   ]
  },
  {
   "cell_type": "code",
   "execution_count": null,
   "id": "297e0dd0-20ce-40b5-975e-a955d1063b5a",
   "metadata": {},
   "outputs": [],
   "source": [
    "##4.Create a Bus child class that inherits from the Vehicle class. The default fare charge of any vehicle is seating capacity * 100.\n",
    "If Vehicle is Bus instance, we need to add an extra 10% on full fare as a maintenance charge.So total fare for bus instance will become the final amount = total fare + 10% of the total fare.\n"
   ]
  },
  {
   "cell_type": "code",
   "execution_count": null,
   "id": "2f8933d7-9c54-4c55-b23d-fea684b0a801",
   "metadata": {},
   "outputs": [],
   "source": []
  }
 ],
 "metadata": {
  "kernelspec": {
   "display_name": "Python 3 (ipykernel)",
   "language": "python",
   "name": "python3"
  },
  "language_info": {
   "codemirror_mode": {
    "name": "ipython",
    "version": 3
   },
   "file_extension": ".py",
   "mimetype": "text/x-python",
   "name": "python",
   "nbconvert_exporter": "python",
   "pygments_lexer": "ipython3",
   "version": "3.12.4"
  }
 },
 "nbformat": 4,
 "nbformat_minor": 5
}
